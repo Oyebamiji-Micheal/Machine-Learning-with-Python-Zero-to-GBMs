{
 "cells": [
  {
   "cell_type": "markdown",
   "id": "841c5e9f",
   "metadata": {},
   "source": [
    "# House Price Prediction with Linear Regression\n",
    "\n",
    "![](https://i.imgur.com/3sw1fY9.jpg)"
   ]
  },
  {
   "cell_type": "markdown",
   "id": "7ecd267e",
   "metadata": {},
   "source": [
    "## Download the Data\n",
    "\n",
    "The dataset is available as a ZIP file at the following url:"
   ]
  },
  {
   "cell_type": "markdown",
   "id": "986bdf03",
   "metadata": {},
   "source": [
    "Note: Remove semi-colon to show output"
   ]
  },
  {
   "cell_type": "code",
   "execution_count": 1,
   "id": "11c33c2d",
   "metadata": {},
   "outputs": [],
   "source": [
    "dataset_url = 'https://github.com/JovianML/opendatasets/raw/master/data/house-prices-advanced-regression-techniques.zip'"
   ]
  },
  {
   "cell_type": "code",
   "execution_count": 2,
   "id": "df098138",
   "metadata": {},
   "outputs": [],
   "source": [
    "from urllib.request import urlretrieve"
   ]
  },
  {
   "cell_type": "code",
   "execution_count": 3,
   "id": "faedf5f6",
   "metadata": {},
   "outputs": [
    {
     "data": {
      "text/plain": [
       "('house-prices.zip', <http.client.HTTPMessage at 0x7fd8e01137f0>)"
      ]
     },
     "execution_count": 3,
     "metadata": {},
     "output_type": "execute_result"
    }
   ],
   "source": [
    "# download zip file using urlretrieve \n",
    "urlretrieve(dataset_url, 'house-prices.zip')"
   ]
  },
  {
   "cell_type": "markdown",
   "id": "ffc6feea",
   "metadata": {},
   "source": [
    "The file `housing-prices.zip` has been downloaded. Let's unzip it using the [`zipfile`](https://docs.python.org/3/library/zipfile.html) module."
   ]
  },
  {
   "cell_type": "code",
   "execution_count": 4,
   "id": "27a43bf8",
   "metadata": {},
   "outputs": [],
   "source": [
    "from zipfile import ZipFile"
   ]
  },
  {
   "cell_type": "code",
   "execution_count": 5,
   "id": "924fa94b",
   "metadata": {},
   "outputs": [],
   "source": [
    "with ZipFile('house-prices.zip') as f:\n",
    "    f.extractall(path='house-prices')"
   ]
  },
  {
   "cell_type": "markdown",
   "id": "e3838cf9",
   "metadata": {},
   "source": [
    "The dataset is extracted to the folder `house-prices`. "
   ]
  },
  {
   "cell_type": "code",
   "execution_count": 6,
   "id": "406cbf40",
   "metadata": {},
   "outputs": [],
   "source": [
    "import os"
   ]
  },
  {
   "cell_type": "code",
   "execution_count": 7,
   "id": "b08ccc33",
   "metadata": {},
   "outputs": [],
   "source": [
    "data_dir = 'house-prices'"
   ]
  },
  {
   "cell_type": "code",
   "execution_count": 8,
   "id": "d250406e",
   "metadata": {},
   "outputs": [],
   "source": [
    "# list the contents of ```house-prices```\n",
    "os.listdir(data_dir);"
   ]
  },
  {
   "cell_type": "markdown",
   "id": "cf254ce0",
   "metadata": {},
   "source": [
    "## Exploratory Data Analysis"
   ]
  },
  {
   "cell_type": "code",
   "execution_count": 9,
   "id": "f6e5d503",
   "metadata": {},
   "outputs": [],
   "source": [
    "import pandas as pd\n",
    "import numpy as np\n",
    "import matplotlib.pyplot as plt\n",
    "import seaborn as sns\n",
    "import warnings\n",
    "warnings.filterwarnings('ignore')"
   ]
  },
  {
   "cell_type": "code",
   "execution_count": 10,
   "id": "311135d3",
   "metadata": {},
   "outputs": [
    {
     "data": {
      "text/plain": [
       "'house-prices/train.csv'"
      ]
     },
     "execution_count": 10,
     "metadata": {},
     "output_type": "execute_result"
    }
   ],
   "source": [
    "train_csv_path = data_dir + '/train.csv'\n",
    "train_csv_path"
   ]
  },
  {
   "cell_type": "markdown",
   "id": "80462d27",
   "metadata": {},
   "source": [
    "> **QUESTION 1**: Load the data from the file `train.csv` into a Pandas data frame."
   ]
  },
  {
   "cell_type": "code",
   "execution_count": 11,
   "id": "5556e936",
   "metadata": {},
   "outputs": [],
   "source": [
    "prices_df = pd.read_csv(train_csv_path)"
   ]
  },
  {
   "cell_type": "code",
   "execution_count": 12,
   "id": "337bd5ba",
   "metadata": {
    "scrolled": true
   },
   "outputs": [
    {
     "data": {
      "text/html": [
       "<div>\n",
       "<style scoped>\n",
       "    .dataframe tbody tr th:only-of-type {\n",
       "        vertical-align: middle;\n",
       "    }\n",
       "\n",
       "    .dataframe tbody tr th {\n",
       "        vertical-align: top;\n",
       "    }\n",
       "\n",
       "    .dataframe thead th {\n",
       "        text-align: right;\n",
       "    }\n",
       "</style>\n",
       "<table border=\"1\" class=\"dataframe\">\n",
       "  <thead>\n",
       "    <tr style=\"text-align: right;\">\n",
       "      <th></th>\n",
       "      <th>Id</th>\n",
       "      <th>MSSubClass</th>\n",
       "      <th>MSZoning</th>\n",
       "      <th>LotFrontage</th>\n",
       "      <th>LotArea</th>\n",
       "      <th>Street</th>\n",
       "      <th>Alley</th>\n",
       "      <th>LotShape</th>\n",
       "      <th>LandContour</th>\n",
       "      <th>Utilities</th>\n",
       "      <th>...</th>\n",
       "      <th>PoolArea</th>\n",
       "      <th>PoolQC</th>\n",
       "      <th>Fence</th>\n",
       "      <th>MiscFeature</th>\n",
       "      <th>MiscVal</th>\n",
       "      <th>MoSold</th>\n",
       "      <th>YrSold</th>\n",
       "      <th>SaleType</th>\n",
       "      <th>SaleCondition</th>\n",
       "      <th>SalePrice</th>\n",
       "    </tr>\n",
       "  </thead>\n",
       "  <tbody>\n",
       "    <tr>\n",
       "      <th>0</th>\n",
       "      <td>1</td>\n",
       "      <td>60</td>\n",
       "      <td>RL</td>\n",
       "      <td>65.0</td>\n",
       "      <td>8450</td>\n",
       "      <td>Pave</td>\n",
       "      <td>NaN</td>\n",
       "      <td>Reg</td>\n",
       "      <td>Lvl</td>\n",
       "      <td>AllPub</td>\n",
       "      <td>...</td>\n",
       "      <td>0</td>\n",
       "      <td>NaN</td>\n",
       "      <td>NaN</td>\n",
       "      <td>NaN</td>\n",
       "      <td>0</td>\n",
       "      <td>2</td>\n",
       "      <td>2008</td>\n",
       "      <td>WD</td>\n",
       "      <td>Normal</td>\n",
       "      <td>208500</td>\n",
       "    </tr>\n",
       "    <tr>\n",
       "      <th>1</th>\n",
       "      <td>2</td>\n",
       "      <td>20</td>\n",
       "      <td>RL</td>\n",
       "      <td>80.0</td>\n",
       "      <td>9600</td>\n",
       "      <td>Pave</td>\n",
       "      <td>NaN</td>\n",
       "      <td>Reg</td>\n",
       "      <td>Lvl</td>\n",
       "      <td>AllPub</td>\n",
       "      <td>...</td>\n",
       "      <td>0</td>\n",
       "      <td>NaN</td>\n",
       "      <td>NaN</td>\n",
       "      <td>NaN</td>\n",
       "      <td>0</td>\n",
       "      <td>5</td>\n",
       "      <td>2007</td>\n",
       "      <td>WD</td>\n",
       "      <td>Normal</td>\n",
       "      <td>181500</td>\n",
       "    </tr>\n",
       "    <tr>\n",
       "      <th>2</th>\n",
       "      <td>3</td>\n",
       "      <td>60</td>\n",
       "      <td>RL</td>\n",
       "      <td>68.0</td>\n",
       "      <td>11250</td>\n",
       "      <td>Pave</td>\n",
       "      <td>NaN</td>\n",
       "      <td>IR1</td>\n",
       "      <td>Lvl</td>\n",
       "      <td>AllPub</td>\n",
       "      <td>...</td>\n",
       "      <td>0</td>\n",
       "      <td>NaN</td>\n",
       "      <td>NaN</td>\n",
       "      <td>NaN</td>\n",
       "      <td>0</td>\n",
       "      <td>9</td>\n",
       "      <td>2008</td>\n",
       "      <td>WD</td>\n",
       "      <td>Normal</td>\n",
       "      <td>223500</td>\n",
       "    </tr>\n",
       "    <tr>\n",
       "      <th>3</th>\n",
       "      <td>4</td>\n",
       "      <td>70</td>\n",
       "      <td>RL</td>\n",
       "      <td>60.0</td>\n",
       "      <td>9550</td>\n",
       "      <td>Pave</td>\n",
       "      <td>NaN</td>\n",
       "      <td>IR1</td>\n",
       "      <td>Lvl</td>\n",
       "      <td>AllPub</td>\n",
       "      <td>...</td>\n",
       "      <td>0</td>\n",
       "      <td>NaN</td>\n",
       "      <td>NaN</td>\n",
       "      <td>NaN</td>\n",
       "      <td>0</td>\n",
       "      <td>2</td>\n",
       "      <td>2006</td>\n",
       "      <td>WD</td>\n",
       "      <td>Abnorml</td>\n",
       "      <td>140000</td>\n",
       "    </tr>\n",
       "    <tr>\n",
       "      <th>4</th>\n",
       "      <td>5</td>\n",
       "      <td>60</td>\n",
       "      <td>RL</td>\n",
       "      <td>84.0</td>\n",
       "      <td>14260</td>\n",
       "      <td>Pave</td>\n",
       "      <td>NaN</td>\n",
       "      <td>IR1</td>\n",
       "      <td>Lvl</td>\n",
       "      <td>AllPub</td>\n",
       "      <td>...</td>\n",
       "      <td>0</td>\n",
       "      <td>NaN</td>\n",
       "      <td>NaN</td>\n",
       "      <td>NaN</td>\n",
       "      <td>0</td>\n",
       "      <td>12</td>\n",
       "      <td>2008</td>\n",
       "      <td>WD</td>\n",
       "      <td>Normal</td>\n",
       "      <td>250000</td>\n",
       "    </tr>\n",
       "  </tbody>\n",
       "</table>\n",
       "<p>5 rows × 81 columns</p>\n",
       "</div>"
      ],
      "text/plain": [
       "   Id  MSSubClass MSZoning  LotFrontage  LotArea Street Alley LotShape  \\\n",
       "0   1          60       RL         65.0     8450   Pave   NaN      Reg   \n",
       "1   2          20       RL         80.0     9600   Pave   NaN      Reg   \n",
       "2   3          60       RL         68.0    11250   Pave   NaN      IR1   \n",
       "3   4          70       RL         60.0     9550   Pave   NaN      IR1   \n",
       "4   5          60       RL         84.0    14260   Pave   NaN      IR1   \n",
       "\n",
       "  LandContour Utilities  ... PoolArea PoolQC Fence MiscFeature MiscVal MoSold  \\\n",
       "0         Lvl    AllPub  ...        0    NaN   NaN         NaN       0      2   \n",
       "1         Lvl    AllPub  ...        0    NaN   NaN         NaN       0      5   \n",
       "2         Lvl    AllPub  ...        0    NaN   NaN         NaN       0      9   \n",
       "3         Lvl    AllPub  ...        0    NaN   NaN         NaN       0      2   \n",
       "4         Lvl    AllPub  ...        0    NaN   NaN         NaN       0     12   \n",
       "\n",
       "  YrSold  SaleType  SaleCondition  SalePrice  \n",
       "0   2008        WD         Normal     208500  \n",
       "1   2007        WD         Normal     181500  \n",
       "2   2008        WD         Normal     223500  \n",
       "3   2006        WD        Abnorml     140000  \n",
       "4   2008        WD         Normal     250000  \n",
       "\n",
       "[5 rows x 81 columns]"
      ]
     },
     "execution_count": 12,
     "metadata": {},
     "output_type": "execute_result"
    }
   ],
   "source": [
    "prices_df.head()"
   ]
  },
  {
   "cell_type": "code",
   "execution_count": null,
   "id": "da1b9b3e",
   "metadata": {},
   "outputs": [],
   "source": [
    "prices_df.info()"
   ]
  },
  {
   "cell_type": "markdown",
   "id": "ab9b8faa",
   "metadata": {},
   "source": [
    "> **QUESTION 2**: How many rows and columns does the dataset contain? "
   ]
  },
  {
   "cell_type": "code",
   "execution_count": 13,
   "id": "5e078c67",
   "metadata": {},
   "outputs": [],
   "source": [
    "n_rows = prices_df.shape[0]"
   ]
  },
  {
   "cell_type": "code",
   "execution_count": 14,
   "id": "eb6012fd",
   "metadata": {},
   "outputs": [],
   "source": [
    "n_cols = prices_df.shape[1]"
   ]
  },
  {
   "cell_type": "code",
   "execution_count": 15,
   "id": "acea6dee",
   "metadata": {},
   "outputs": [
    {
     "name": "stdout",
     "output_type": "stream",
     "text": [
      "The dataset contains 1460 rows and 81 columns.\n"
     ]
    }
   ],
   "source": [
    "print('The dataset contains {} rows and {} columns.'.format(n_rows, n_cols))"
   ]
  },
  {
   "cell_type": "markdown",
   "id": "ee94c0f1",
   "metadata": {},
   "source": [
    "> **(OPTIONAL) QUESTION**: Before training the model, you may want to explore and visualize data from the various columns within the dataset, and study their relationship with the price of the house (using scatter plot and correlations). Create some graphs and summarize your insights using the empty cells below."
   ]
  },
  {
   "cell_type": "markdown",
   "id": "d85e1b78",
   "metadata": {},
   "source": [
    "### What is the distribution of house prices?"
   ]
  },
  {
   "cell_type": "code",
   "execution_count": 16,
   "id": "2d3d92be",
   "metadata": {},
   "outputs": [
    {
     "data": {
      "text/plain": [
       "count      1460.000000\n",
       "mean     180921.195890\n",
       "std       79442.502883\n",
       "min       34900.000000\n",
       "25%      129975.000000\n",
       "50%      163000.000000\n",
       "75%      214000.000000\n",
       "max      755000.000000\n",
       "Name: SalePrice, dtype: float64"
      ]
     },
     "execution_count": 16,
     "metadata": {},
     "output_type": "execute_result"
    }
   ],
   "source": [
    "prices_df['SalePrice'].describe()"
   ]
  },
  {
   "cell_type": "code",
   "execution_count": 17,
   "id": "a77fed76",
   "metadata": {
    "scrolled": false
   },
   "outputs": [
    {
     "data": {
      "image/png": "[encoded data removed]",
      "text/plain": [
       "<Figure size 432x288 with 1 Axes>"
      ]
     },
     "metadata": {
      "needs_background": "light"
     },
     "output_type": "display_data"
    }
   ],
   "source": [
    "plt.hist(data=prices_df, x='SalePrice');\n",
    "plt.xlabel('Price')\n",
    "plt.ylabel('Frequency')\n",
    "plt.title('Distribution of house prices');"
   ]
  },
  {
   "cell_type": "markdown",
   "id": "9e4c705d",
   "metadata": {},
   "source": [
    "The minimum house price in our data is around ```$18,000``` and on average a house cost ```$163,000```. Also, the data is skewed to the right due to some extremely high house prices."
   ]
  },
  {
   "cell_type": "markdown",
   "id": "593461cc",
   "metadata": {},
   "source": [
    "### What's is the correlation between other columns and ```SalePrice```?"
   ]
  },
  {
   "cell_type": "markdown",
   "id": "720231ee",
   "metadata": {},
   "source": [
    "### Lot Size"
   ]
  },
  {
   "cell_type": "code",
   "execution_count": 18,
   "id": "4143a0c8",
   "metadata": {
    "scrolled": false
   },
   "outputs": [
    {
     "data": {
      "image/png": "[encoded data removed]",
      "text/plain": [
       "<Figure size 432x288 with 1 Axes>"
      ]
     },
     "metadata": {
      "needs_background": "light"
     },
     "output_type": "display_data"
    }
   ],
   "source": [
    "sns.scatterplot(data=prices_df, x='LotArea', y='SalePrice')\n",
    "plt.title('Lot Size in sqft vs SalePrice');"
   ]
  },
  {
   "cell_type": "markdown",
   "id": "2ff39d1b",
   "metadata": {},
   "source": [
    "The lot size seems to cluster around a point with few outliers to the right. I don't see a very strong correlation from the above plot"
   ]
  },
  {
   "cell_type": "markdown",
   "id": "bdf4d82a",
   "metadata": {},
   "source": [
    "### Does the size of the basement contribute to an increase in house price?"
   ]
  },
  {
   "cell_type": "code",
   "execution_count": 19,
   "id": "6985fe6f",
   "metadata": {},
   "outputs": [
    {
     "data": {
      "image/png": "[encoded data removed]",
      "text/plain": [
       "<Figure size 432x288 with 1 Axes>"
      ]
     },
     "metadata": {
      "needs_background": "light"
     },
     "output_type": "display_data"
    }
   ],
   "source": [
    "sns.scatterplot(data=prices_df, x='TotalBsmtSF', y ='SalePrice')\n",
    "plt.title('Lot Size in sqft vs SalePrice');"
   ]
  },
  {
   "cell_type": "markdown",
   "id": "24437539",
   "metadata": {},
   "source": [
    "There is quite a fairly strong correlation between the size of the basement of a house and its price."
   ]
  },
  {
   "cell_type": "markdown",
   "id": "31d069ad",
   "metadata": {},
   "source": [
    "### Overall Condition of each house "
   ]
  },
  {
   "cell_type": "markdown",
   "id": "a503ab97",
   "metadata": {},
   "source": [
    "To aid redability, the corresponding values of each integer in ```OverallCond``` is saved in a dictionary and replaced inplace. Description of the dataset can be found [here]()"
   ]
  },
  {
   "cell_type": "code",
   "execution_count": 20,
   "id": "ea982d8f",
   "metadata": {},
   "outputs": [],
   "source": [
    "mapping_condition = {10: 'Very Excellent', 9: 'Excellent', 8: 'Very Good', 7: 'Good',\n",
    "           6: 'Above Average', 5: 'Average', 4: 'Below Average', 3: 'Fair',\n",
    "           2: 'Poor', 1: 'Very Poor'}\n",
    "\n",
    "prices_df['OverallCond'] = prices_df['OverallCond'].map(mapping_condition)"
   ]
  },
  {
   "cell_type": "code",
   "execution_count": 21,
   "id": "3d51cd9b",
   "metadata": {},
   "outputs": [],
   "source": [
    "data = prices_df.groupby('OverallCond').mean()['SalePrice']\n",
    "data;"
   ]
  },
  {
   "cell_type": "code",
   "execution_count": 22,
   "id": "c5821e09",
   "metadata": {},
   "outputs": [
    {
     "data": {
      "image/png": "[encoded data removed]",
      "text/plain": [
       "<Figure size 432x288 with 1 Axes>"
      ]
     },
     "metadata": {
      "needs_background": "light"
     },
     "output_type": "display_data"
    }
   ],
   "source": [
    "base_color = sns.color_palette()[0]\n",
    "order = list(mapping_condition.values())\n",
    "sns.barplot(data, data.index, color=base_color, order=order)\n",
    "plt.title('Mean Price of House Overall Condition');"
   ]
  },
  {
   "cell_type": "markdown",
   "id": "7973c0dc",
   "metadata": {},
   "source": [
    "### Price and Foundation Type"
   ]
  },
  {
   "cell_type": "code",
   "execution_count": 23,
   "id": "7a001c6d",
   "metadata": {},
   "outputs": [],
   "source": [
    "mapping_foundation = {'BrkTil': 'Brick & Tile', 'CBlock': 'Cinder Block', 'PConc': 'Poured Contrete',\n",
    "                       'Slab': 'Slab', 'Stone': 'Stone', 'Wood': 'Wood'}\n",
    "\n",
    "prices_df['Foundation'] = prices_df['Foundation'].map(mapping_foundation)"
   ]
  },
  {
   "cell_type": "code",
   "execution_count": 24,
   "id": "21680a68",
   "metadata": {},
   "outputs": [
    {
     "data": {
      "text/plain": [
       "Foundation\n",
       "Poured Contrete    225230.442040\n",
       "Wood               185666.666667\n",
       "Stone              165959.166667\n",
       "Cinder Block       149805.714511\n",
       "Brick & Tile       132291.075342\n",
       "Slab               107365.625000\n",
       "Name: SalePrice, dtype: float64"
      ]
     },
     "execution_count": 24,
     "metadata": {},
     "output_type": "execute_result"
    }
   ],
   "source": [
    "data_foundation = prices_df.groupby('Foundation').mean()['SalePrice'].sort_values(ascending=False)\n",
    "data_foundation"
   ]
  },
  {
   "cell_type": "code",
   "execution_count": 25,
   "id": "a6d5dbbc",
   "metadata": {},
   "outputs": [
    {
     "data": {
      "image/png": "[encoded data removed]",
      "text/plain": [
       "<Figure size 432x288 with 1 Axes>"
      ]
     },
     "metadata": {
      "needs_background": "light"
     },
     "output_type": "display_data"
    }
   ],
   "source": [
    "sns.barplot(data_foundation, data_foundation.index, color=base_color)\n",
    "plt.title('Mean Price of House Foundation');"
   ]
  },
  {
   "cell_type": "markdown",
   "id": "5ebb1580",
   "metadata": {},
   "source": [
    "Houses with poured concrete foundation have the highest mean sale price "
   ]
  },
  {
   "cell_type": "markdown",
   "id": "25acd3e7",
   "metadata": {},
   "source": [
    "## Prepare the Dataset for Training\n",
    "\n",
    "Before we can train the model, we need to prepare the dataset. Here are the steps we'll follow:\n",
    "\n",
    "1. Identify the input and target column(s) for training the model.\n",
    "2. Identify numeric and categorical input columns.\n",
    "3. [Impute](https://scikit-learn.org/stable/modules/impute.html) (fill) missing values in numeric columns\n",
    "4. [Scale](https://scikit-learn.org/stable/modules/preprocessing.html#scaling-features-to-a-range) values in numeric columns to a $(0,1)$ range.\n",
    "5. [Encode](https://scikit-learn.org/stable/modules/preprocessing.html#encoding-categorical-features) categorical data into one-hot vectors.\n",
    "6. Split the dataset into training and validation sets.\n"
   ]
  },
  {
   "cell_type": "markdown",
   "id": "e0ee1a8f",
   "metadata": {},
   "source": [
    "### Identify Inputs and Targets\n",
    "\n",
    "While the dataset contains 81 columns, not all of them are useful for modeling. Note the following:\n",
    "\n",
    "- The first column `Id` is a unique ID for each house and isn't useful for training the model.\n",
    "- The last column `SalePrice` contains the value we need to predict i.e. it's the target column.\n",
    "- Data from all the other columns (except the first and the last column) can be used as inputs to the model.\n",
    " "
   ]
  },
  {
   "cell_type": "markdown",
   "id": "6df49fc7",
   "metadata": {},
   "source": [
    "> **QUESTION 3**: Create a list `input_cols` of column names containing data that can be used as input to train the model, and identify the target column as the variable `target_col`."
   ]
  },
  {
   "cell_type": "code",
   "execution_count": 26,
   "id": "c35a8571",
   "metadata": {},
   "outputs": [],
   "source": [
    "prices_df.columns[1:-1];"
   ]
  },
  {
   "cell_type": "code",
   "execution_count": 27,
   "id": "f1b70e3c",
   "metadata": {},
   "outputs": [
    {
     "data": {
      "text/plain": [
       "'SalePrice'"
      ]
     },
     "execution_count": 27,
     "metadata": {},
     "output_type": "execute_result"
    }
   ],
   "source": [
    "prices_df.columns[-1]"
   ]
  },
  {
   "cell_type": "code",
   "execution_count": 28,
   "id": "c6e39b28",
   "metadata": {},
   "outputs": [],
   "source": [
    "# Identify the input columns (a list of column names)\n",
    "input_cols = prices_df.columns[1:-1]"
   ]
  },
  {
   "cell_type": "code",
   "execution_count": 29,
   "id": "19f3b6a1",
   "metadata": {},
   "outputs": [],
   "source": [
    "# Identify the name of the target column (a single string, not a list)\n",
    "target_col = prices_df.columns[-1]"
   ]
  },
  {
   "cell_type": "code",
   "execution_count": 30,
   "id": "4e93c8d3",
   "metadata": {},
   "outputs": [],
   "source": [
    "input_cols;"
   ]
  },
  {
   "cell_type": "code",
   "execution_count": 31,
   "id": "40b87734",
   "metadata": {},
   "outputs": [
    {
     "name": "stdout",
     "output_type": "stream",
     "text": [
      "SalePrice\n"
     ]
    }
   ],
   "source": [
    "print(target_col)"
   ]
  },
  {
   "cell_type": "markdown",
   "id": "2c93a4df",
   "metadata": {},
   "source": [
    "Now that we've identified the input and target columns, we can separate input & target data."
   ]
  },
  {
   "cell_type": "code",
   "execution_count": 32,
   "id": "ffd5e376",
   "metadata": {},
   "outputs": [],
   "source": [
    "inputs_df = prices_df[input_cols].copy()"
   ]
  },
  {
   "cell_type": "code",
   "execution_count": 33,
   "id": "4a770670",
   "metadata": {},
   "outputs": [],
   "source": [
    "targets = prices_df[target_col]"
   ]
  },
  {
   "cell_type": "code",
   "execution_count": 34,
   "id": "f74fe66e",
   "metadata": {},
   "outputs": [],
   "source": [
    "inputs_df;"
   ]
  },
  {
   "cell_type": "code",
   "execution_count": 35,
   "id": "2df52f48",
   "metadata": {},
   "outputs": [],
   "source": [
    "targets;"
   ]
  },
  {
   "cell_type": "markdown",
   "id": "be385523",
   "metadata": {},
   "source": [
    "### Identify Numeric and Categorical Data\n",
    "\n",
    "The next step in data preparation is to identify numeric and categorical columns. We can do this by looking at the data type of each column."
   ]
  },
  {
   "cell_type": "markdown",
   "id": "3d96a2b5",
   "metadata": {},
   "source": [
    "> **QUESTION 4**: Crate two lists `numeric_cols` and `categorical_cols` containing names of numeric and categorical input columns within the dataframe respectively. Numeric columns have data types `int64` and `float64`, whereas categorical columns have the data type `object`.\n",
    ">\n",
    "> *Hint*: See this [StackOverflow question](https://stackoverflow.com/questions/25039626/how-do-i-find-numeric-columns-in-pandas). "
   ]
  },
  {
   "cell_type": "markdown",
   "id": "ee2b6c68",
   "metadata": {},
   "source": [
    "# import numpy as np"
   ]
  },
  {
   "cell_type": "code",
   "execution_count": 36,
   "id": "0164bf94",
   "metadata": {},
   "outputs": [],
   "source": [
    "numeric_cols = inputs_df.select_dtypes(include=['int64', 'float64']).columns.tolist()"
   ]
  },
  {
   "cell_type": "code",
   "execution_count": 37,
   "id": "d7ed6efc",
   "metadata": {},
   "outputs": [],
   "source": [
    "categorical_cols = inputs_df.select_dtypes(include=['object']).columns.tolist()"
   ]
  },
  {
   "cell_type": "code",
   "execution_count": 38,
   "id": "76076425",
   "metadata": {},
   "outputs": [],
   "source": [
    "numeric_cols;"
   ]
  },
  {
   "cell_type": "code",
   "execution_count": 39,
   "id": "f5143aa1",
   "metadata": {},
   "outputs": [],
   "source": [
    "categorical_cols;"
   ]
  },
  {
   "cell_type": "code",
   "execution_count": null,
   "id": "caa13a80",
   "metadata": {},
   "outputs": [],
   "source": [
    "prices_df[categorical_cols].info()"
   ]
  },
  {
   "cell_type": "markdown",
   "id": "dbedb7ae",
   "metadata": {},
   "source": [
    "### Impute Numerical Data\n",
    "\n",
    "Some of the numeric columns in our dataset contain missing values (`nan`)."
   ]
  },
  {
   "cell_type": "code",
   "execution_count": 41,
   "id": "4d580567",
   "metadata": {},
   "outputs": [
    {
     "data": {
      "text/plain": [
       "LotFrontage    259\n",
       "GarageYrBlt     81\n",
       "MasVnrArea       8\n",
       "dtype: int64"
      ]
     },
     "execution_count": 41,
     "metadata": {},
     "output_type": "execute_result"
    }
   ],
   "source": [
    "missing_counts = inputs_df[numeric_cols].isna().sum().sort_values(ascending=False)\n",
    "missing_counts[missing_counts > 0]"
   ]
  },
  {
   "cell_type": "markdown",
   "id": "6d3ffbf7",
   "metadata": {},
   "source": [
    "Machine learning models can't work with missing data. The process of filling missing values is called [imputation](https://scikit-learn.org/stable/modules/impute.html).\n",
    "\n",
    "<img src=\"https://i.imgur.com/W7cfyOp.png\" width=\"480\">\n",
    "\n",
    "There are several techniques for imputation, but we'll use the most basic one: replacing missing values with the average value in the column using the `SimpleImputer` class from `sklearn.impute`.\n"
   ]
  },
  {
   "cell_type": "code",
   "execution_count": 42,
   "id": "83ce9b83",
   "metadata": {},
   "outputs": [],
   "source": [
    "from sklearn.impute import SimpleImputer"
   ]
  },
  {
   "cell_type": "markdown",
   "id": "ebc98ab5",
   "metadata": {},
   "source": [
    "> **QUESTION 5**: Impute (fill) missing values in the numeric columns of `inputs_df` using a `SimpleImputer`. \n",
    ">\n",
    "> *Hint*: See [this notebook](https://jovian.ai/aakashns/python-sklearn-logistic-regression/v/66#C88)."
   ]
  },
  {
   "cell_type": "code",
   "execution_count": 43,
   "id": "65572ca4",
   "metadata": {},
   "outputs": [],
   "source": [
    "# 1. Create the imputer\n",
    "imputer = SimpleImputer(strategy='mean')"
   ]
  },
  {
   "cell_type": "code",
   "execution_count": 44,
   "id": "e5f3d755",
   "metadata": {},
   "outputs": [
    {
     "data": {
      "text/plain": [
       "SimpleImputer()"
      ]
     },
     "execution_count": 44,
     "metadata": {},
     "output_type": "execute_result"
    }
   ],
   "source": [
    "# 2. Fit the imputer to the numeric colums\n",
    "imputer.fit(prices_df[numeric_cols])"
   ]
  },
  {
   "cell_type": "code",
   "execution_count": 45,
   "id": "4eb674d5",
   "metadata": {},
   "outputs": [],
   "source": [
    "# 3. Transform and replace the numeric columns\n",
    "inputs_df[numeric_cols] = imputer.transform(inputs_df[numeric_cols])"
   ]
  },
  {
   "cell_type": "markdown",
   "id": "9d84af97",
   "metadata": {},
   "source": [
    "After imputation, none of the numeric columns should contain any missing values."
   ]
  },
  {
   "cell_type": "code",
   "execution_count": 46,
   "id": "e6beb5e2",
   "metadata": {},
   "outputs": [
    {
     "data": {
      "text/plain": [
       "Series([], dtype: int64)"
      ]
     },
     "execution_count": 46,
     "metadata": {},
     "output_type": "execute_result"
    }
   ],
   "source": [
    "missing_counts = inputs_df[numeric_cols].isna().sum().sort_values(ascending=False)\n",
    "missing_counts[missing_counts > 0] # should be an empty list"
   ]
  },
  {
   "cell_type": "markdown",
   "id": "4fc5513d",
   "metadata": {},
   "source": [
    "### Scale Numerical Values\n",
    "\n",
    "The numeric columns in our dataset have varying ranges. "
   ]
  },
  {
   "cell_type": "code",
   "execution_count": 47,
   "id": "2960f518",
   "metadata": {},
   "outputs": [
    {
     "data": {
      "text/html": [
       "<div>\n",
       "<style scoped>\n",
       "    .dataframe tbody tr th:only-of-type {\n",
       "        vertical-align: middle;\n",
       "    }\n",
       "\n",
       "    .dataframe tbody tr th {\n",
       "        vertical-align: top;\n",
       "    }\n",
       "\n",
       "    .dataframe thead th {\n",
       "        text-align: right;\n",
       "    }\n",
       "</style>\n",
       "<table border=\"1\" class=\"dataframe\">\n",
       "  <thead>\n",
       "    <tr style=\"text-align: right;\">\n",
       "      <th></th>\n",
       "      <th>MSSubClass</th>\n",
       "      <th>LotFrontage</th>\n",
       "      <th>LotArea</th>\n",
       "      <th>OverallQual</th>\n",
       "      <th>YearBuilt</th>\n",
       "      <th>YearRemodAdd</th>\n",
       "      <th>MasVnrArea</th>\n",
       "      <th>BsmtFinSF1</th>\n",
       "      <th>BsmtFinSF2</th>\n",
       "      <th>BsmtUnfSF</th>\n",
       "      <th>...</th>\n",
       "      <th>GarageArea</th>\n",
       "      <th>WoodDeckSF</th>\n",
       "      <th>OpenPorchSF</th>\n",
       "      <th>EnclosedPorch</th>\n",
       "      <th>3SsnPorch</th>\n",
       "      <th>ScreenPorch</th>\n",
       "      <th>PoolArea</th>\n",
       "      <th>MiscVal</th>\n",
       "      <th>MoSold</th>\n",
       "      <th>YrSold</th>\n",
       "    </tr>\n",
       "  </thead>\n",
       "  <tbody>\n",
       "    <tr>\n",
       "      <th>min</th>\n",
       "      <td>20.0</td>\n",
       "      <td>21.0</td>\n",
       "      <td>1300.0</td>\n",
       "      <td>1.0</td>\n",
       "      <td>1872.0</td>\n",
       "      <td>1950.0</td>\n",
       "      <td>0.0</td>\n",
       "      <td>0.0</td>\n",
       "      <td>0.0</td>\n",
       "      <td>0.0</td>\n",
       "      <td>...</td>\n",
       "      <td>0.0</td>\n",
       "      <td>0.0</td>\n",
       "      <td>0.0</td>\n",
       "      <td>0.0</td>\n",
       "      <td>0.0</td>\n",
       "      <td>0.0</td>\n",
       "      <td>0.0</td>\n",
       "      <td>0.0</td>\n",
       "      <td>1.0</td>\n",
       "      <td>2006.0</td>\n",
       "    </tr>\n",
       "    <tr>\n",
       "      <th>max</th>\n",
       "      <td>190.0</td>\n",
       "      <td>313.0</td>\n",
       "      <td>215245.0</td>\n",
       "      <td>10.0</td>\n",
       "      <td>2010.0</td>\n",
       "      <td>2010.0</td>\n",
       "      <td>1600.0</td>\n",
       "      <td>5644.0</td>\n",
       "      <td>1474.0</td>\n",
       "      <td>2336.0</td>\n",
       "      <td>...</td>\n",
       "      <td>1418.0</td>\n",
       "      <td>857.0</td>\n",
       "      <td>547.0</td>\n",
       "      <td>552.0</td>\n",
       "      <td>508.0</td>\n",
       "      <td>480.0</td>\n",
       "      <td>738.0</td>\n",
       "      <td>15500.0</td>\n",
       "      <td>12.0</td>\n",
       "      <td>2010.0</td>\n",
       "    </tr>\n",
       "  </tbody>\n",
       "</table>\n",
       "<p>2 rows × 35 columns</p>\n",
       "</div>"
      ],
      "text/plain": [
       "     MSSubClass  LotFrontage   LotArea  OverallQual  YearBuilt  YearRemodAdd  \\\n",
       "min        20.0         21.0    1300.0          1.0     1872.0        1950.0   \n",
       "max       190.0        313.0  215245.0         10.0     2010.0        2010.0   \n",
       "\n",
       "     MasVnrArea  BsmtFinSF1  BsmtFinSF2  BsmtUnfSF  ...  GarageArea  \\\n",
       "min         0.0         0.0         0.0        0.0  ...         0.0   \n",
       "max      1600.0      5644.0      1474.0     2336.0  ...      1418.0   \n",
       "\n",
       "     WoodDeckSF  OpenPorchSF  EnclosedPorch  3SsnPorch  ScreenPorch  PoolArea  \\\n",
       "min         0.0          0.0            0.0        0.0          0.0       0.0   \n",
       "max       857.0        547.0          552.0      508.0        480.0     738.0   \n",
       "\n",
       "     MiscVal  MoSold  YrSold  \n",
       "min      0.0     1.0  2006.0  \n",
       "max  15500.0    12.0  2010.0  \n",
       "\n",
       "[2 rows x 35 columns]"
      ]
     },
     "execution_count": 47,
     "metadata": {},
     "output_type": "execute_result"
    }
   ],
   "source": [
    "inputs_df[numeric_cols].describe().loc[['min', 'max']]"
   ]
  },
  {
   "cell_type": "markdown",
   "id": "3bd9882a",
   "metadata": {},
   "source": [
    "A good practice is to [scale numeric features](https://scikit-learn.org/stable/modules/preprocessing.html#scaling-features-to-a-range) to a small range of values e.g. $(0,1)$. Scaling numeric features ensures that no particular feature has a disproportionate impact on the model's loss. Optimization algorithms also work better in practice with smaller numbers.\n"
   ]
  },
  {
   "cell_type": "markdown",
   "id": "ded1015e",
   "metadata": {},
   "source": [
    "> **QUESTION 6**: Scale numeric values to the $(0, 1)$ range using `MinMaxScaler` from `sklearn.preprocessing`.\n",
    ">\n",
    "> *Hint*: See [this notebook](https://jovian.ai/aakashns/python-sklearn-logistic-regression/v/66#C104)."
   ]
  },
  {
   "cell_type": "code",
   "execution_count": 48,
   "id": "7d493acc",
   "metadata": {},
   "outputs": [],
   "source": [
    "from sklearn.preprocessing import MinMaxScaler"
   ]
  },
  {
   "cell_type": "code",
   "execution_count": 49,
   "id": "d9902a23",
   "metadata": {},
   "outputs": [],
   "source": [
    "# Create the scaler\n",
    "scaler = MinMaxScaler()"
   ]
  },
  {
   "cell_type": "code",
   "execution_count": 50,
   "id": "78ad3b22",
   "metadata": {},
   "outputs": [
    {
     "data": {
      "text/plain": [
       "MinMaxScaler()"
      ]
     },
     "execution_count": 50,
     "metadata": {},
     "output_type": "execute_result"
    }
   ],
   "source": [
    "# Fit the scaler to the numeric columns\n",
    "scaler.fit(prices_df[numeric_cols])"
   ]
  },
  {
   "cell_type": "code",
   "execution_count": 51,
   "id": "4bc4697a",
   "metadata": {},
   "outputs": [],
   "source": [
    "# Transform and replace the numeric columns\n",
    "inputs_df[numeric_cols] = scaler.transform(inputs_df[numeric_cols])"
   ]
  },
  {
   "cell_type": "markdown",
   "id": "2385a165",
   "metadata": {},
   "source": [
    "After scaling, the ranges of all numeric columns should be $(0, 1)$."
   ]
  },
  {
   "cell_type": "code",
   "execution_count": 52,
   "id": "84ed5365",
   "metadata": {},
   "outputs": [
    {
     "data": {
      "text/html": [
       "<div>\n",
       "<style scoped>\n",
       "    .dataframe tbody tr th:only-of-type {\n",
       "        vertical-align: middle;\n",
       "    }\n",
       "\n",
       "    .dataframe tbody tr th {\n",
       "        vertical-align: top;\n",
       "    }\n",
       "\n",
       "    .dataframe thead th {\n",
       "        text-align: right;\n",
       "    }\n",
       "</style>\n",
       "<table border=\"1\" class=\"dataframe\">\n",
       "  <thead>\n",
       "    <tr style=\"text-align: right;\">\n",
       "      <th></th>\n",
       "      <th>MSSubClass</th>\n",
       "      <th>LotFrontage</th>\n",
       "      <th>LotArea</th>\n",
       "      <th>OverallQual</th>\n",
       "      <th>YearBuilt</th>\n",
       "      <th>YearRemodAdd</th>\n",
       "      <th>MasVnrArea</th>\n",
       "      <th>BsmtFinSF1</th>\n",
       "      <th>BsmtFinSF2</th>\n",
       "      <th>BsmtUnfSF</th>\n",
       "      <th>...</th>\n",
       "      <th>GarageArea</th>\n",
       "      <th>WoodDeckSF</th>\n",
       "      <th>OpenPorchSF</th>\n",
       "      <th>EnclosedPorch</th>\n",
       "      <th>3SsnPorch</th>\n",
       "      <th>ScreenPorch</th>\n",
       "      <th>PoolArea</th>\n",
       "      <th>MiscVal</th>\n",
       "      <th>MoSold</th>\n",
       "      <th>YrSold</th>\n",
       "    </tr>\n",
       "  </thead>\n",
       "  <tbody>\n",
       "    <tr>\n",
       "      <th>min</th>\n",
       "      <td>0.0</td>\n",
       "      <td>0.0</td>\n",
       "      <td>0.0</td>\n",
       "      <td>0.0</td>\n",
       "      <td>0.0</td>\n",
       "      <td>0.0</td>\n",
       "      <td>0.0</td>\n",
       "      <td>0.0</td>\n",
       "      <td>0.0</td>\n",
       "      <td>0.0</td>\n",
       "      <td>...</td>\n",
       "      <td>0.0</td>\n",
       "      <td>0.0</td>\n",
       "      <td>0.0</td>\n",
       "      <td>0.0</td>\n",
       "      <td>0.0</td>\n",
       "      <td>0.0</td>\n",
       "      <td>0.0</td>\n",
       "      <td>0.0</td>\n",
       "      <td>0.0</td>\n",
       "      <td>0.0</td>\n",
       "    </tr>\n",
       "    <tr>\n",
       "      <th>max</th>\n",
       "      <td>1.0</td>\n",
       "      <td>1.0</td>\n",
       "      <td>1.0</td>\n",
       "      <td>1.0</td>\n",
       "      <td>1.0</td>\n",
       "      <td>1.0</td>\n",
       "      <td>1.0</td>\n",
       "      <td>1.0</td>\n",
       "      <td>1.0</td>\n",
       "      <td>1.0</td>\n",
       "      <td>...</td>\n",
       "      <td>1.0</td>\n",
       "      <td>1.0</td>\n",
       "      <td>1.0</td>\n",
       "      <td>1.0</td>\n",
       "      <td>1.0</td>\n",
       "      <td>1.0</td>\n",
       "      <td>1.0</td>\n",
       "      <td>1.0</td>\n",
       "      <td>1.0</td>\n",
       "      <td>1.0</td>\n",
       "    </tr>\n",
       "  </tbody>\n",
       "</table>\n",
       "<p>2 rows × 35 columns</p>\n",
       "</div>"
      ],
      "text/plain": [
       "     MSSubClass  LotFrontage  LotArea  OverallQual  YearBuilt  YearRemodAdd  \\\n",
       "min         0.0          0.0      0.0          0.0        0.0           0.0   \n",
       "max         1.0          1.0      1.0          1.0        1.0           1.0   \n",
       "\n",
       "     MasVnrArea  BsmtFinSF1  BsmtFinSF2  BsmtUnfSF  ...  GarageArea  \\\n",
       "min         0.0         0.0         0.0        0.0  ...         0.0   \n",
       "max         1.0         1.0         1.0        1.0  ...         1.0   \n",
       "\n",
       "     WoodDeckSF  OpenPorchSF  EnclosedPorch  3SsnPorch  ScreenPorch  PoolArea  \\\n",
       "min         0.0          0.0            0.0        0.0          0.0       0.0   \n",
       "max         1.0          1.0            1.0        1.0          1.0       1.0   \n",
       "\n",
       "     MiscVal  MoSold  YrSold  \n",
       "min      0.0     0.0     0.0  \n",
       "max      1.0     1.0     1.0  \n",
       "\n",
       "[2 rows x 35 columns]"
      ]
     },
     "execution_count": 52,
     "metadata": {},
     "output_type": "execute_result"
    }
   ],
   "source": [
    "inputs_df[numeric_cols].describe().loc[['min', 'max']]"
   ]
  },
  {
   "cell_type": "markdown",
   "id": "c1437f4d",
   "metadata": {},
   "source": [
    "### Encode Categorical Columns\n",
    "\n",
    "Our dataset contains several categorical columns, each with a different number of categories."
   ]
  },
  {
   "cell_type": "code",
   "execution_count": 53,
   "id": "c4015843",
   "metadata": {},
   "outputs": [],
   "source": [
    "inputs_df[categorical_cols].nunique().sort_values(ascending=False);"
   ]
  },
  {
   "cell_type": "markdown",
   "id": "4cfbc802",
   "metadata": {},
   "source": [
    "\n",
    "\n",
    "Since machine learning models can only be trained with numeric data, we need to convert categorical data to numbers. A common technique is to use one-hot encoding for categorical columns.\n",
    "\n",
    "<img src=\"https://i.imgur.com/n8GuiOO.png\" width=\"640\">\n",
    "\n",
    "One hot encoding involves adding a new binary (0/1) column for each unique category of a categorical column."
   ]
  },
  {
   "cell_type": "markdown",
   "id": "a779d81d",
   "metadata": {},
   "source": [
    "> **QUESTION 7**: Encode categorical columns in the dataset as one-hot vectors using `OneHotEncoder` from `sklearn.preprocessing`. Add a new binary (0/1) column for each category\n",
    "> \n",
    "> *Hint*: See [this notebook](https://jovian.ai/aakashns/python-sklearn-logistic-regression/v/66#C122)."
   ]
  },
  {
   "cell_type": "code",
   "execution_count": 54,
   "id": "dffa8b56",
   "metadata": {},
   "outputs": [],
   "source": [
    "from sklearn.preprocessing import OneHotEncoder"
   ]
  },
  {
   "cell_type": "code",
   "execution_count": 55,
   "id": "318feee2",
   "metadata": {},
   "outputs": [],
   "source": [
    "# 1. Create the encoder\n",
    "encoder = OneHotEncoder(sparse=False, handle_unknown='ignore')"
   ]
  },
  {
   "cell_type": "code",
   "execution_count": 56,
   "id": "a9974c8a",
   "metadata": {},
   "outputs": [
    {
     "data": {
      "text/plain": [
       "OneHotEncoder(handle_unknown='ignore', sparse=False)"
      ]
     },
     "execution_count": 56,
     "metadata": {},
     "output_type": "execute_result"
    }
   ],
   "source": [
    "# 2. Fit the encoder to the categorical colums\n",
    "encoder.fit(prices_df[categorical_cols])"
   ]
  },
  {
   "cell_type": "code",
   "execution_count": 57,
   "id": "9f157119",
   "metadata": {},
   "outputs": [
    {
     "data": {
      "text/plain": [
       "277"
      ]
     },
     "execution_count": 57,
     "metadata": {},
     "output_type": "execute_result"
    }
   ],
   "source": [
    "# 3. Generate column names for each category\n",
    "encoded_cols = list(encoder.get_feature_names_out(categorical_cols))\n",
    "len(encoded_cols)"
   ]
  },
  {
   "cell_type": "code",
   "execution_count": 58,
   "id": "337d5221",
   "metadata": {
    "scrolled": false
   },
   "outputs": [],
   "source": [
    "# 4. Transform and add new one-hot category columns\n",
    "inputs_df[encoded_cols] = encoder.transform(inputs_df[categorical_cols])"
   ]
  },
  {
   "cell_type": "markdown",
   "id": "0e4fb99e",
   "metadata": {},
   "source": [
    "The new one-hot category columns should now be added to `inputs_df`."
   ]
  },
  {
   "cell_type": "markdown",
   "id": "f69e803d",
   "metadata": {},
   "source": [
    "### Training and Validation Set\n",
    "\n",
    "Finally, let's split the dataset into a training and validation set. We'll use a randomly select 25% subset of the data for validation. Also, we'll use just the numeric and encoded columns, since the inputs to our model must be numbers. "
   ]
  },
  {
   "cell_type": "code",
   "execution_count": 59,
   "id": "49b3c26a",
   "metadata": {},
   "outputs": [],
   "source": [
    "from sklearn.model_selection import train_test_split"
   ]
  },
  {
   "cell_type": "code",
   "execution_count": 60,
   "id": "458607c4",
   "metadata": {},
   "outputs": [],
   "source": [
    "train_inputs, val_inputs, train_targets, val_targets = train_test_split(inputs_df[numeric_cols + encoded_cols], \n",
    "                                                                        targets, \n",
    "                                                                        test_size=0.25, \n",
    "                                                                        random_state=42)"
   ]
  },
  {
   "cell_type": "code",
   "execution_count": 61,
   "id": "28fb6019",
   "metadata": {},
   "outputs": [
    {
     "data": {
      "text/html": [
       "<div>\n",
       "<style scoped>\n",
       "    .dataframe tbody tr th:only-of-type {\n",
       "        vertical-align: middle;\n",
       "    }\n",
       "\n",
       "    .dataframe tbody tr th {\n",
       "        vertical-align: top;\n",
       "    }\n",
       "\n",
       "    .dataframe thead th {\n",
       "        text-align: right;\n",
       "    }\n",
       "</style>\n",
       "<table border=\"1\" class=\"dataframe\">\n",
       "  <thead>\n",
       "    <tr style=\"text-align: right;\">\n",
       "      <th></th>\n",
       "      <th>MSSubClass</th>\n",
       "      <th>LotFrontage</th>\n",
       "      <th>LotArea</th>\n",
       "      <th>OverallQual</th>\n",
       "      <th>YearBuilt</th>\n",
       "      <th>YearRemodAdd</th>\n",
       "      <th>MasVnrArea</th>\n",
       "      <th>BsmtFinSF1</th>\n",
       "      <th>BsmtFinSF2</th>\n",
       "      <th>BsmtUnfSF</th>\n",
       "      <th>...</th>\n",
       "      <th>SaleType_ConLw</th>\n",
       "      <th>SaleType_New</th>\n",
       "      <th>SaleType_Oth</th>\n",
       "      <th>SaleType_WD</th>\n",
       "      <th>SaleCondition_Abnorml</th>\n",
       "      <th>SaleCondition_AdjLand</th>\n",
       "      <th>SaleCondition_Alloca</th>\n",
       "      <th>SaleCondition_Family</th>\n",
       "      <th>SaleCondition_Normal</th>\n",
       "      <th>SaleCondition_Partial</th>\n",
       "    </tr>\n",
       "  </thead>\n",
       "  <tbody>\n",
       "    <tr>\n",
       "      <th>1023</th>\n",
       "      <td>0.588235</td>\n",
       "      <td>0.075342</td>\n",
       "      <td>0.008797</td>\n",
       "      <td>0.666667</td>\n",
       "      <td>0.963768</td>\n",
       "      <td>0.933333</td>\n",
       "      <td>0.008750</td>\n",
       "      <td>0.002835</td>\n",
       "      <td>0.000000</td>\n",
       "      <td>0.569349</td>\n",
       "      <td>...</td>\n",
       "      <td>0.0</td>\n",
       "      <td>0.0</td>\n",
       "      <td>0.0</td>\n",
       "      <td>1.0</td>\n",
       "      <td>0.0</td>\n",
       "      <td>0.0</td>\n",
       "      <td>0.0</td>\n",
       "      <td>0.0</td>\n",
       "      <td>1.0</td>\n",
       "      <td>0.0</td>\n",
       "    </tr>\n",
       "    <tr>\n",
       "      <th>810</th>\n",
       "      <td>0.000000</td>\n",
       "      <td>0.195205</td>\n",
       "      <td>0.041319</td>\n",
       "      <td>0.555556</td>\n",
       "      <td>0.739130</td>\n",
       "      <td>0.816667</td>\n",
       "      <td>0.061875</td>\n",
       "      <td>0.117470</td>\n",
       "      <td>0.255767</td>\n",
       "      <td>0.000000</td>\n",
       "      <td>...</td>\n",
       "      <td>0.0</td>\n",
       "      <td>0.0</td>\n",
       "      <td>0.0</td>\n",
       "      <td>1.0</td>\n",
       "      <td>0.0</td>\n",
       "      <td>0.0</td>\n",
       "      <td>0.0</td>\n",
       "      <td>0.0</td>\n",
       "      <td>1.0</td>\n",
       "      <td>0.0</td>\n",
       "    </tr>\n",
       "    <tr>\n",
       "      <th>1384</th>\n",
       "      <td>0.176471</td>\n",
       "      <td>0.133562</td>\n",
       "      <td>0.036271</td>\n",
       "      <td>0.555556</td>\n",
       "      <td>0.485507</td>\n",
       "      <td>0.000000</td>\n",
       "      <td>0.000000</td>\n",
       "      <td>0.036145</td>\n",
       "      <td>0.000000</td>\n",
       "      <td>0.152397</td>\n",
       "      <td>...</td>\n",
       "      <td>0.0</td>\n",
       "      <td>0.0</td>\n",
       "      <td>0.0</td>\n",
       "      <td>1.0</td>\n",
       "      <td>0.0</td>\n",
       "      <td>0.0</td>\n",
       "      <td>0.0</td>\n",
       "      <td>0.0</td>\n",
       "      <td>1.0</td>\n",
       "      <td>0.0</td>\n",
       "    </tr>\n",
       "    <tr>\n",
       "      <th>626</th>\n",
       "      <td>0.000000</td>\n",
       "      <td>0.167979</td>\n",
       "      <td>0.051611</td>\n",
       "      <td>0.444444</td>\n",
       "      <td>0.637681</td>\n",
       "      <td>0.466667</td>\n",
       "      <td>0.000000</td>\n",
       "      <td>0.000000</td>\n",
       "      <td>0.000000</td>\n",
       "      <td>0.418664</td>\n",
       "      <td>...</td>\n",
       "      <td>0.0</td>\n",
       "      <td>0.0</td>\n",
       "      <td>0.0</td>\n",
       "      <td>1.0</td>\n",
       "      <td>0.0</td>\n",
       "      <td>0.0</td>\n",
       "      <td>0.0</td>\n",
       "      <td>0.0</td>\n",
       "      <td>1.0</td>\n",
       "      <td>0.0</td>\n",
       "    </tr>\n",
       "    <tr>\n",
       "      <th>813</th>\n",
       "      <td>0.000000</td>\n",
       "      <td>0.184932</td>\n",
       "      <td>0.039496</td>\n",
       "      <td>0.555556</td>\n",
       "      <td>0.623188</td>\n",
       "      <td>0.133333</td>\n",
       "      <td>0.151875</td>\n",
       "      <td>0.107725</td>\n",
       "      <td>0.000000</td>\n",
       "      <td>0.357021</td>\n",
       "      <td>...</td>\n",
       "      <td>0.0</td>\n",
       "      <td>0.0</td>\n",
       "      <td>0.0</td>\n",
       "      <td>0.0</td>\n",
       "      <td>0.0</td>\n",
       "      <td>0.0</td>\n",
       "      <td>0.0</td>\n",
       "      <td>0.0</td>\n",
       "      <td>1.0</td>\n",
       "      <td>0.0</td>\n",
       "    </tr>\n",
       "    <tr>\n",
       "      <th>...</th>\n",
       "      <td>...</td>\n",
       "      <td>...</td>\n",
       "      <td>...</td>\n",
       "      <td>...</td>\n",
       "      <td>...</td>\n",
       "      <td>...</td>\n",
       "      <td>...</td>\n",
       "      <td>...</td>\n",
       "      <td>...</td>\n",
       "      <td>...</td>\n",
       "      <td>...</td>\n",
       "      <td>...</td>\n",
       "      <td>...</td>\n",
       "      <td>...</td>\n",
       "      <td>...</td>\n",
       "      <td>...</td>\n",
       "      <td>...</td>\n",
       "      <td>...</td>\n",
       "      <td>...</td>\n",
       "      <td>...</td>\n",
       "      <td>...</td>\n",
       "    </tr>\n",
       "    <tr>\n",
       "      <th>1095</th>\n",
       "      <td>0.000000</td>\n",
       "      <td>0.195205</td>\n",
       "      <td>0.037472</td>\n",
       "      <td>0.555556</td>\n",
       "      <td>0.971014</td>\n",
       "      <td>0.933333</td>\n",
       "      <td>0.000000</td>\n",
       "      <td>0.004252</td>\n",
       "      <td>0.000000</td>\n",
       "      <td>0.552226</td>\n",
       "      <td>...</td>\n",
       "      <td>0.0</td>\n",
       "      <td>0.0</td>\n",
       "      <td>0.0</td>\n",
       "      <td>1.0</td>\n",
       "      <td>0.0</td>\n",
       "      <td>0.0</td>\n",
       "      <td>0.0</td>\n",
       "      <td>0.0</td>\n",
       "      <td>1.0</td>\n",
       "      <td>0.0</td>\n",
       "    </tr>\n",
       "    <tr>\n",
       "      <th>1130</th>\n",
       "      <td>0.176471</td>\n",
       "      <td>0.150685</td>\n",
       "      <td>0.030400</td>\n",
       "      <td>0.333333</td>\n",
       "      <td>0.405797</td>\n",
       "      <td>0.000000</td>\n",
       "      <td>0.000000</td>\n",
       "      <td>0.110206</td>\n",
       "      <td>0.000000</td>\n",
       "      <td>0.214041</td>\n",
       "      <td>...</td>\n",
       "      <td>0.0</td>\n",
       "      <td>0.0</td>\n",
       "      <td>0.0</td>\n",
       "      <td>1.0</td>\n",
       "      <td>0.0</td>\n",
       "      <td>0.0</td>\n",
       "      <td>0.0</td>\n",
       "      <td>0.0</td>\n",
       "      <td>1.0</td>\n",
       "      <td>0.0</td>\n",
       "    </tr>\n",
       "    <tr>\n",
       "      <th>1294</th>\n",
       "      <td>0.000000</td>\n",
       "      <td>0.133562</td>\n",
       "      <td>0.032120</td>\n",
       "      <td>0.444444</td>\n",
       "      <td>0.601449</td>\n",
       "      <td>0.666667</td>\n",
       "      <td>0.000000</td>\n",
       "      <td>0.029589</td>\n",
       "      <td>0.000000</td>\n",
       "      <td>0.298373</td>\n",
       "      <td>...</td>\n",
       "      <td>0.0</td>\n",
       "      <td>0.0</td>\n",
       "      <td>0.0</td>\n",
       "      <td>1.0</td>\n",
       "      <td>0.0</td>\n",
       "      <td>0.0</td>\n",
       "      <td>0.0</td>\n",
       "      <td>0.0</td>\n",
       "      <td>1.0</td>\n",
       "      <td>0.0</td>\n",
       "    </tr>\n",
       "    <tr>\n",
       "      <th>860</th>\n",
       "      <td>0.176471</td>\n",
       "      <td>0.116438</td>\n",
       "      <td>0.029643</td>\n",
       "      <td>0.666667</td>\n",
       "      <td>0.333333</td>\n",
       "      <td>0.800000</td>\n",
       "      <td>0.000000</td>\n",
       "      <td>0.000000</td>\n",
       "      <td>0.000000</td>\n",
       "      <td>0.390411</td>\n",
       "      <td>...</td>\n",
       "      <td>0.0</td>\n",
       "      <td>0.0</td>\n",
       "      <td>0.0</td>\n",
       "      <td>1.0</td>\n",
       "      <td>0.0</td>\n",
       "      <td>0.0</td>\n",
       "      <td>0.0</td>\n",
       "      <td>0.0</td>\n",
       "      <td>1.0</td>\n",
       "      <td>0.0</td>\n",
       "    </tr>\n",
       "    <tr>\n",
       "      <th>1126</th>\n",
       "      <td>0.588235</td>\n",
       "      <td>0.109589</td>\n",
       "      <td>0.011143</td>\n",
       "      <td>0.666667</td>\n",
       "      <td>0.978261</td>\n",
       "      <td>0.950000</td>\n",
       "      <td>0.081250</td>\n",
       "      <td>0.000000</td>\n",
       "      <td>0.000000</td>\n",
       "      <td>0.587757</td>\n",
       "      <td>...</td>\n",
       "      <td>0.0</td>\n",
       "      <td>0.0</td>\n",
       "      <td>0.0</td>\n",
       "      <td>1.0</td>\n",
       "      <td>0.0</td>\n",
       "      <td>0.0</td>\n",
       "      <td>0.0</td>\n",
       "      <td>0.0</td>\n",
       "      <td>1.0</td>\n",
       "      <td>0.0</td>\n",
       "    </tr>\n",
       "  </tbody>\n",
       "</table>\n",
       "<p>1095 rows × 312 columns</p>\n",
       "</div>"
      ],
      "text/plain": [
       "      MSSubClass  LotFrontage   LotArea  OverallQual  YearBuilt  YearRemodAdd  \\\n",
       "1023    0.588235     0.075342  0.008797     0.666667   0.963768      0.933333   \n",
       "810     0.000000     0.195205  0.041319     0.555556   0.739130      0.816667   \n",
       "1384    0.176471     0.133562  0.036271     0.555556   0.485507      0.000000   \n",
       "626     0.000000     0.167979  0.051611     0.444444   0.637681      0.466667   \n",
       "813     0.000000     0.184932  0.039496     0.555556   0.623188      0.133333   \n",
       "...          ...          ...       ...          ...        ...           ...   \n",
       "1095    0.000000     0.195205  0.037472     0.555556   0.971014      0.933333   \n",
       "1130    0.176471     0.150685  0.030400     0.333333   0.405797      0.000000   \n",
       "1294    0.000000     0.133562  0.032120     0.444444   0.601449      0.666667   \n",
       "860     0.176471     0.116438  0.029643     0.666667   0.333333      0.800000   \n",
       "1126    0.588235     0.109589  0.011143     0.666667   0.978261      0.950000   \n",
       "\n",
       "      MasVnrArea  BsmtFinSF1  BsmtFinSF2  BsmtUnfSF  ...  SaleType_ConLw  \\\n",
       "1023    0.008750    0.002835    0.000000   0.569349  ...             0.0   \n",
       "810     0.061875    0.117470    0.255767   0.000000  ...             0.0   \n",
       "1384    0.000000    0.036145    0.000000   0.152397  ...             0.0   \n",
       "626     0.000000    0.000000    0.000000   0.418664  ...             0.0   \n",
       "813     0.151875    0.107725    0.000000   0.357021  ...             0.0   \n",
       "...          ...         ...         ...        ...  ...             ...   \n",
       "1095    0.000000    0.004252    0.000000   0.552226  ...             0.0   \n",
       "1130    0.000000    0.110206    0.000000   0.214041  ...             0.0   \n",
       "1294    0.000000    0.029589    0.000000   0.298373  ...             0.0   \n",
       "860     0.000000    0.000000    0.000000   0.390411  ...             0.0   \n",
       "1126    0.081250    0.000000    0.000000   0.587757  ...             0.0   \n",
       "\n",
       "      SaleType_New  SaleType_Oth  SaleType_WD  SaleCondition_Abnorml  \\\n",
       "1023           0.0           0.0          1.0                    0.0   \n",
       "810            0.0           0.0          1.0                    0.0   \n",
       "1384           0.0           0.0          1.0                    0.0   \n",
       "626            0.0           0.0          1.0                    0.0   \n",
       "813            0.0           0.0          0.0                    0.0   \n",
       "...            ...           ...          ...                    ...   \n",
       "1095           0.0           0.0          1.0                    0.0   \n",
       "1130           0.0           0.0          1.0                    0.0   \n",
       "1294           0.0           0.0          1.0                    0.0   \n",
       "860            0.0           0.0          1.0                    0.0   \n",
       "1126           0.0           0.0          1.0                    0.0   \n",
       "\n",
       "      SaleCondition_AdjLand  SaleCondition_Alloca  SaleCondition_Family  \\\n",
       "1023                    0.0                   0.0                   0.0   \n",
       "810                     0.0                   0.0                   0.0   \n",
       "1384                    0.0                   0.0                   0.0   \n",
       "626                     0.0                   0.0                   0.0   \n",
       "813                     0.0                   0.0                   0.0   \n",
       "...                     ...                   ...                   ...   \n",
       "1095                    0.0                   0.0                   0.0   \n",
       "1130                    0.0                   0.0                   0.0   \n",
       "1294                    0.0                   0.0                   0.0   \n",
       "860                     0.0                   0.0                   0.0   \n",
       "1126                    0.0                   0.0                   0.0   \n",
       "\n",
       "      SaleCondition_Normal  SaleCondition_Partial  \n",
       "1023                   1.0                    0.0  \n",
       "810                    1.0                    0.0  \n",
       "1384                   1.0                    0.0  \n",
       "626                    1.0                    0.0  \n",
       "813                    1.0                    0.0  \n",
       "...                    ...                    ...  \n",
       "1095                   1.0                    0.0  \n",
       "1130                   1.0                    0.0  \n",
       "1294                   1.0                    0.0  \n",
       "860                    1.0                    0.0  \n",
       "1126                   1.0                    0.0  \n",
       "\n",
       "[1095 rows x 312 columns]"
      ]
     },
     "execution_count": 61,
     "metadata": {},
     "output_type": "execute_result"
    }
   ],
   "source": [
    "train_inputs"
   ]
  },
  {
   "cell_type": "code",
   "execution_count": 62,
   "id": "b8504c61",
   "metadata": {},
   "outputs": [
    {
     "data": {
      "text/plain": [
       "1023    191000\n",
       "810     181000\n",
       "1384    105000\n",
       "626     139900\n",
       "813     157900\n",
       "         ...  \n",
       "1095    176432\n",
       "1130    135000\n",
       "1294    115000\n",
       "860     189950\n",
       "1126    174000\n",
       "Name: SalePrice, Length: 1095, dtype: int64"
      ]
     },
     "execution_count": 62,
     "metadata": {},
     "output_type": "execute_result"
    }
   ],
   "source": [
    "train_targets"
   ]
  },
  {
   "cell_type": "code",
   "execution_count": 64,
   "id": "ab14e87d",
   "metadata": {},
   "outputs": [],
   "source": [
    "val_inputs;"
   ]
  },
  {
   "cell_type": "code",
   "execution_count": 65,
   "id": "98c0d0a9",
   "metadata": {},
   "outputs": [],
   "source": [
    "val_targets;"
   ]
  },
  {
   "cell_type": "markdown",
   "id": "5827a4f6",
   "metadata": {},
   "source": [
    "## Step 3 - Train a Linear Regression Model\n",
    "\n",
    "We're now ready to train the model. Linear regression is a commonly used technique for solving [regression problems](https://jovian.ai/aakashns/python-sklearn-logistic-regression/v/66#C6). In a linear regression model, the target is modeled as a linear combination (or weighted sum) of input features. The predictions from the model are evaluated using a loss function like the Root Mean Squared Error (RMSE).\n",
    "\n",
    "\n",
    "Here's a visual summary of how a linear regression model is structured:\n",
    "\n",
    "<img src=\"https://i.imgur.com/iTM2s5k.png\" width=\"480\">\n",
    "\n",
    "However, linear regression doesn't generalize very well when we have a large number of input columns with co-linearity i.e. when the values one column are highly correlated with values in other column(s). This is because it tries to fit the training data perfectly. \n",
    "\n",
    "Instead, we'll use Ridge Regression, a variant of linear regression that uses a technique called L2 regularization to introduce another loss term that forces the model to generalize better. Learn more about ridge regression here: https://www.youtube.com/watch?v=Q81RR3yKn30"
   ]
  },
  {
   "cell_type": "markdown",
   "id": "1f0bc9e5",
   "metadata": {},
   "source": [
    "> **QUESTION 8**: Create and train a linear regression model using the `Ridge` class from `sklearn.linear_model`."
   ]
  },
  {
   "cell_type": "code",
   "execution_count": 66,
   "id": "ee4e62c7",
   "metadata": {},
   "outputs": [],
   "source": [
    "from sklearn.linear_model import Ridge"
   ]
  },
  {
   "cell_type": "code",
   "execution_count": 67,
   "id": "ef6cfed2",
   "metadata": {},
   "outputs": [],
   "source": [
    "# Create the model\n",
    "model = Ridge()"
   ]
  },
  {
   "cell_type": "code",
   "execution_count": 68,
   "id": "0ee0fe5f",
   "metadata": {},
   "outputs": [
    {
     "data": {
      "text/plain": [
       "Ridge()"
      ]
     },
     "execution_count": 68,
     "metadata": {},
     "output_type": "execute_result"
    }
   ],
   "source": [
    "# Fit the model using inputs and targets\n",
    "model.fit(train_inputs, train_targets)"
   ]
  },
  {
   "cell_type": "markdown",
   "id": "4a68041a",
   "metadata": {},
   "source": [
    "`model.fit` uses the following strategy for training the model (source):\n",
    "\n",
    "1. We initialize a model with random parameters (weights & biases).\n",
    "2. We pass some inputs into the model to obtain predictions.\n",
    "3. We compare the model's predictions with the actual targets using the loss function.\n",
    "4. We use an optimization technique (like least squares, gradient descent etc.) to reduce the loss by adjusting the weights & biases of the model\n",
    "5. We repeat steps 1 to 4 till the predictions from the model are good enough.\n",
    "\n",
    "<img src=\"https://www.deepnetts.com/blog/wp-content/uploads/2019/02/SupervisedLearning.png\" width=\"480\">"
   ]
  },
  {
   "cell_type": "markdown",
   "id": "0f7ff7cc",
   "metadata": {},
   "source": [
    "## Step 4 - Make Predictions and Evaluate Your Model\n",
    "\n",
    "The model is now trained, and we can use it to generate predictions for the training and validation inputs. We can evaluate the model's performance using the RMSE (root mean squared error) loss function."
   ]
  },
  {
   "cell_type": "markdown",
   "id": "36ab8f2a",
   "metadata": {},
   "source": [
    "> **QUESTION 9**: Generate predictions and compute the RMSE loss for the training and validation sets. \n",
    "> \n",
    "> *Hint*: Use the `mean_squared_error` with the argument `squared=False` to compute RMSE loss."
   ]
  },
  {
   "cell_type": "code",
   "execution_count": 69,
   "id": "ea9cbc4f",
   "metadata": {},
   "outputs": [],
   "source": [
    "from sklearn.metrics import mean_squared_error"
   ]
  },
  {
   "cell_type": "code",
   "execution_count": 70,
   "id": "d9fde47a",
   "metadata": {},
   "outputs": [],
   "source": [
    "train_preds = model.predict(train_inputs)"
   ]
  },
  {
   "cell_type": "code",
   "execution_count": 71,
   "id": "46c2bad9",
   "metadata": {},
   "outputs": [
    {
     "data": {
      "text/plain": [
       "array([172586.76008995, 176949.20748914, 104911.63988729, ...,\n",
       "       123614.97185668, 170450.79328578, 190859.27900072])"
      ]
     },
     "execution_count": 71,
     "metadata": {},
     "output_type": "execute_result"
    }
   ],
   "source": [
    "train_preds"
   ]
  },
  {
   "cell_type": "code",
   "execution_count": 72,
   "id": "0eae2809",
   "metadata": {},
   "outputs": [],
   "source": [
    "train_rmse = mean_squared_error(train_targets, train_preds, squared=False)"
   ]
  },
  {
   "cell_type": "code",
   "execution_count": 73,
   "id": "bff17f06",
   "metadata": {},
   "outputs": [
    {
     "name": "stdout",
     "output_type": "stream",
     "text": [
      "The RMSE loss for the training set is $ 21804.60856719364.\n"
     ]
    }
   ],
   "source": [
    "print('The RMSE loss for the training set is $ {}.'.format(train_rmse))"
   ]
  },
  {
   "cell_type": "code",
   "execution_count": 74,
   "id": "fe741e3b",
   "metadata": {},
   "outputs": [],
   "source": [
    "val_preds = model.predict(val_inputs)"
   ]
  },
  {
   "cell_type": "code",
   "execution_count": 75,
   "id": "54ffda9c",
   "metadata": {},
   "outputs": [],
   "source": [
    "val_preds;"
   ]
  },
  {
   "cell_type": "code",
   "execution_count": 76,
   "id": "5896683d",
   "metadata": {},
   "outputs": [],
   "source": [
    "val_rmse = mean_squared_error(val_targets, val_preds, squared=False)"
   ]
  },
  {
   "cell_type": "code",
   "execution_count": 77,
   "id": "6f8a40ac",
   "metadata": {},
   "outputs": [
    {
     "name": "stdout",
     "output_type": "stream",
     "text": [
      "The RMSE loss for the validation set is $ 28844.842206653768.\n"
     ]
    }
   ],
   "source": [
    "print('The RMSE loss for the validation set is $ {}.'.format(val_rmse))"
   ]
  },
  {
   "cell_type": "markdown",
   "id": "3b8149c8",
   "metadata": {},
   "source": [
    "### Feature Importance\n",
    "\n",
    "Let's look at the weights assigned to different columns, to figure out which columns in the dataset are the most important."
   ]
  },
  {
   "cell_type": "markdown",
   "id": "90e5efa4",
   "metadata": {},
   "source": [
    "> **QUESTION 10**: Identify the weights (or coefficients) assigned to for different features by the model.\n",
    "> \n",
    "> *Hint:* Read [the docs](https://scikit-learn.org/stable/modules/generated/sklearn.linear_model.LinearRegression.html)."
   ]
  },
  {
   "cell_type": "code",
   "execution_count": 78,
   "id": "3de1153d",
   "metadata": {},
   "outputs": [],
   "source": [
    "weights = model.coef_"
   ]
  },
  {
   "cell_type": "markdown",
   "id": "9c2d5fda",
   "metadata": {},
   "source": [
    "Let's create a dataframe to view the weight assigned to each column."
   ]
  },
  {
   "cell_type": "code",
   "execution_count": 79,
   "id": "dc422e4b",
   "metadata": {},
   "outputs": [],
   "source": [
    "weights_df = pd.DataFrame({\n",
    "    'columns': train_inputs.columns,\n",
    "    'weight': weights\n",
    "}).sort_values('weight', ascending=False)"
   ]
  },
  {
   "cell_type": "code",
   "execution_count": 81,
   "id": "bfee3cb5",
   "metadata": {},
   "outputs": [],
   "source": [
    "weights_df;"
   ]
  },
  {
   "cell_type": "markdown",
   "id": "4259ebbb",
   "metadata": {},
   "source": [
    "Can you tell which columns have the greatest impact on the price of the house?"
   ]
  },
  {
   "cell_type": "markdown",
   "id": "1c7483eb",
   "metadata": {},
   "source": [
    "### Making Predictions\n",
    "\n",
    "The model can be used to make predictions on new inputs using the following helper function:"
   ]
  },
  {
   "cell_type": "code",
   "execution_count": 82,
   "id": "351c17cd",
   "metadata": {},
   "outputs": [],
   "source": [
    "def predict_input(single_input):\n",
    "    input_df = pd.DataFrame([single_input])\n",
    "    input_df[numeric_cols] = imputer.transform(input_df[numeric_cols])\n",
    "    input_df[numeric_cols] = scaler.transform(input_df[numeric_cols])\n",
    "    input_df[encoded_cols] = encoder.transform(input_df[categorical_cols].values)\n",
    "    X_input = input_df[numeric_cols + encoded_cols]\n",
    "    return model.predict(X_input)[0]"
   ]
  },
  {
   "cell_type": "code",
   "execution_count": 83,
   "id": "f9d5360b",
   "metadata": {},
   "outputs": [],
   "source": [
    "sample_input = { 'MSSubClass': 20, 'MSZoning': 'RL', 'LotFrontage': 77.0, 'LotArea': 9320,\n",
    " 'Street': 'Pave', 'Alley': None, 'LotShape': 'IR1', 'LandContour': 'Lvl', 'Utilities': 'AllPub',\n",
    " 'LotConfig': 'Inside', 'LandSlope': 'Gtl', 'Neighborhood': 'NAmes', 'Condition1': 'Norm', 'Condition2': 'Norm',\n",
    " 'BldgType': '1Fam', 'HouseStyle': '1Story', 'OverallQual': 4, 'OverallCond': 5, 'YearBuilt': 1959,\n",
    " 'YearRemodAdd': 1959, 'RoofStyle': 'Gable', 'RoofMatl': 'CompShg', 'Exterior1st': 'Plywood',\n",
    " 'Exterior2nd': 'Plywood', 'MasVnrType': 'None','MasVnrArea': 0.0,'ExterQual': 'TA','ExterCond': 'TA',\n",
    " 'Foundation': 'CBlock','BsmtQual': 'TA','BsmtCond': 'TA','BsmtExposure': 'No','BsmtFinType1': 'ALQ',\n",
    " 'BsmtFinSF1': 569,'BsmtFinType2': 'Unf','BsmtFinSF2': 0,'BsmtUnfSF': 381,\n",
    " 'TotalBsmtSF': 950,'Heating': 'GasA','HeatingQC': 'Fa','CentralAir': 'Y','Electrical': 'SBrkr', '1stFlrSF': 1225,\n",
    " '2ndFlrSF': 0, 'LowQualFinSF': 0, 'GrLivArea': 1225, 'BsmtFullBath': 1, 'BsmtHalfBath': 0, 'FullBath': 1,\n",
    " 'HalfBath': 1, 'BedroomAbvGr': 3, 'KitchenAbvGr': 1,'KitchenQual': 'TA','TotRmsAbvGrd': 6,'Functional': 'Typ',\n",
    " 'Fireplaces': 0,'FireplaceQu': np.nan,'GarageType': np.nan,'GarageYrBlt': np.nan,'GarageFinish': np.nan,'GarageCars': 0,\n",
    " 'GarageArea': 0,'GarageQual': np.nan,'GarageCond': np.nan,'PavedDrive': 'Y', 'WoodDeckSF': 352, 'OpenPorchSF': 0,\n",
    " 'EnclosedPorch': 0,'3SsnPorch': 0, 'ScreenPorch': 0, 'PoolArea': 0, 'PoolQC': np.nan, 'Fence': np.nan, 'MiscFeature': 'Shed',\n",
    " 'MiscVal': 400, 'MoSold': 1, 'YrSold': 2010, 'SaleType': 'WD', 'SaleCondition': 'Normal'}"
   ]
  },
  {
   "cell_type": "code",
   "execution_count": 84,
   "id": "9cd54f94",
   "metadata": {},
   "outputs": [],
   "source": [
    "predicted_price = predict_input(sample_input)"
   ]
  },
  {
   "cell_type": "code",
   "execution_count": 85,
   "id": "7a95459c",
   "metadata": {},
   "outputs": [
    {
     "name": "stdout",
     "output_type": "stream",
     "text": [
      "The predicted sale price of the house is $121308.45605677945\n"
     ]
    }
   ],
   "source": [
    "print('The predicted sale price of the house is ${}'.format(predicted_price))"
   ]
  },
  {
   "cell_type": "markdown",
   "id": "f0baa6ea",
   "metadata": {},
   "source": [
    "Change the values in `sample_input` above and observe the effects on the predicted price. "
   ]
  },
  {
   "cell_type": "markdown",
   "id": "fb4c249d",
   "metadata": {},
   "source": [
    "### Saving the model\n",
    "\n",
    "Let's save the model (along with other useful objects) to disk, so that we use it for making predictions without retraining."
   ]
  },
  {
   "cell_type": "code",
   "execution_count": 86,
   "id": "d8789b39",
   "metadata": {},
   "outputs": [],
   "source": [
    "import joblib"
   ]
  },
  {
   "cell_type": "code",
   "execution_count": 87,
   "id": "ef80b4e0",
   "metadata": {},
   "outputs": [],
   "source": [
    "house_price_predictor = {\n",
    "    'model': model,\n",
    "    'imputer': imputer,\n",
    "    'scaler': scaler,\n",
    "    'encoder': encoder,\n",
    "    'input_cols': input_cols,\n",
    "    'target_col': target_col,\n",
    "    'numeric_cols': numeric_cols,\n",
    "    'categorical_cols': categorical_cols,\n",
    "    'encoded_cols': encoded_cols\n",
    "}"
   ]
  },
  {
   "cell_type": "code",
   "execution_count": 88,
   "id": "ff7492be",
   "metadata": {},
   "outputs": [
    {
     "data": {
      "text/plain": [
       "['house_price_predictor.joblib']"
      ]
     },
     "execution_count": 88,
     "metadata": {},
     "output_type": "execute_result"
    }
   ],
   "source": [
    "joblib.dump(house_price_predictor, 'house_price_predictor.joblib')"
   ]
  },
  {
   "cell_type": "markdown",
   "id": "e60771d6",
   "metadata": {},
   "source": [
    "Congratulations on training and evaluating your first machine learning model using `scikit-learn`! Let's save our work before continuing. We'll include the saved model as an output."
   ]
  }
 ],
 "metadata": {
  "kernelspec": {
   "display_name": "Python 3 (ipykernel)",
   "language": "python",
   "name": "python3"
  },
  "language_info": {
   "codemirror_mode": {
    "name": "ipython",
    "version": 3
   },
   "file_extension": ".py",
   "mimetype": "text/x-python",
   "name": "python",
   "nbconvert_exporter": "python",
   "pygments_lexer": "ipython3",
   "version": "3.9.6"
  }
 },
 "nbformat": 4,
 "nbformat_minor": 5
}
